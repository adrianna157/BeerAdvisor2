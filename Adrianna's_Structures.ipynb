{
  "nbformat": 4,
  "nbformat_minor": 0,
  "metadata": {
    "colab": {
      "name": "Adrianna's Structures",
      "provenance": [],
      "include_colab_link": true
    },
    "kernelspec": {
      "name": "python3",
      "display_name": "Python 3"
    }
  },
  "cells": [
    {
      "cell_type": "markdown",
      "metadata": {
        "id": "view-in-github",
        "colab_type": "text"
      },
      "source": [
        "<a href=\"https://colab.research.google.com/github/adrianna157/BeerAdvisor2/blob/master/Adrianna's_Structures.ipynb\" target=\"_parent\"><img src=\"https://colab.research.google.com/assets/colab-badge.svg\" alt=\"Open In Colab\"/></a>"
      ]
    },
    {
      "cell_type": "markdown",
      "metadata": {
        "id": "W5SAJnnfs2f9",
        "colab_type": "text"
      },
      "source": [
        "# **Introduction**\n",
        "### This is a data structures handbook and it contains all of the most common data structures that are being used in today's computing industry. "
      ]
    },
    {
      "cell_type": "markdown",
      "metadata": {
        "id": "MKpKXt77s456",
        "colab_type": "text"
      },
      "source": [
        "# **Purpose**\n",
        "### The purpose of this handbook is to have a quick reference to  data structures when developing code, studying for interviews, or to use as training material. Data structures are important when developing software becaue it helps solve issues with time and space complexity. In addition, it helps to manage data in a much more efficient manner.  "
      ]
    },
    {
      "cell_type": "markdown",
      "metadata": {
        "id": "MmrgF4sMtUTN",
        "colab_type": "text"
      },
      "source": [
        "# **Arrays & Dynamic Arrays**"
      ]
    },
    {
      "cell_type": "markdown",
      "metadata": {
        "id": "kK4UruhjoiSv",
        "colab_type": "text"
      },
      "source": [
        "### **Concept**\n",
        "An array is a linear, ordered, indexed data structure that \"contains\" values of one specific data type.\n",
        "\n"
      ]
    },
    {
      "cell_type": "markdown",
      "metadata": {
        "id": "DS9saTFxonlY",
        "colab_type": "text"
      },
      "source": [
        "### **API & Efficiency**\n",
        "\n",
        "** Data Structure is a list, but provide the methods of that list, use numPy, provide functions for the list. What are the time complexities. \n",
        "\n",
        "\n",
        "store() => O(1)\n",
        "Example: fruits = []\n",
        "\n",
        "retrieve() => O(1)\n",
        "Example: fruit[0]\n",
        "\n",
        "insert() => O(1)\n",
        "Example: fruit.append(value)\n",
        "\n",
        "delete() => O(n) if value is not given, if it is given, then it will be O(1)\n",
        "Example: fruit.remove(x) => remove item whose value is == x.\n",
        "\n",
        "fruit.pop([i]) => remove the item at the given position in the list, and return it. \n",
        "\n",
        "search() => O(n)\n",
        "Example: \n",
        ">for i in fruit:\n",
        ">>  if i == value:\n",
        ">>>    return i\n",
        "\n",
        "sort() => O(n)\n",
        "Example: fruit.sort(key=None, revers=False) => Sort the items of the list in place.\n",
        "\n"
      ]
    },
    {
      "cell_type": "markdown",
      "metadata": {
        "id": "ZYh93hmMotjJ",
        "colab_type": "text"
      },
      "source": [
        "### **Impelementation**\n",
        "\n",
        "\n",
        "\n",
        "\n",
        "A dynamic array has a static array as the underlying data structure. What happens when you need to grow the array is a new static array with a longer length is created and the old data from the old static array is copied over to the newly created array. \n",
        "\n",
        "\n",
        "This usually has a static array that runs in the background. So, the way it gets its dynamic property is that there is a new static array that is created according to whatever length that is specified. Then, the values in the old array gets copied over to the new array with a new length. Then, the old array gets thrown away. So, the new array with the copied values becomes the current array. \n"
      ]
    },
    {
      "cell_type": "markdown",
      "metadata": {
        "id": "QqmZEdn0Rjcr",
        "colab_type": "text"
      },
      "source": [
        "### **Example**"
      ]
    },
    {
      "cell_type": "markdown",
      "metadata": {
        "id": "187eoH3zRsNm",
        "colab_type": "text"
      },
      "source": [
        "##### **Example of Array Machinery:**\n",
        "\n",
        "\n",
        "![alt text](https://oregonstate.instructure.com/courses/1738923/files/76326789/download?wrap=1)"
      ]
    },
    {
      "cell_type": "markdown",
      "metadata": {
        "id": "asbCDzLHtWdi",
        "colab_type": "text"
      },
      "source": [
        "# **Search & Sort**"
      ]
    },
    {
      "cell_type": "markdown",
      "metadata": {
        "id": "r7WGXvEJxPxQ",
        "colab_type": "text"
      },
      "source": [
        "### **Concept**\n",
        "There are many ways to search and sort data. In order to determine which way you would like to search and sort data, you must first look at the data that you are trying to apply this. Then, see what time complexity you would think would be appropriate for that data. Then, you will be able to determine which search and sort technique to use. "
      ]
    },
    {
      "cell_type": "markdown",
      "metadata": {
        "id": "iZ5O81HnSIOZ",
        "colab_type": "text"
      },
      "source": [
        "### **API & Efficiency**"
      ]
    },
    {
      "cell_type": "markdown",
      "metadata": {
        "id": "8-KgyKHqxlk8",
        "colab_type": "text"
      },
      "source": [
        "\n",
        "![alt text](https://miro.medium.com/max/1192/1*ipkeWQ_Lb0lbkhB8rigxTA.png)"
      ]
    },
    {
      "cell_type": "markdown",
      "metadata": {
        "id": "_T1BtRyrxwDN",
        "colab_type": "text"
      },
      "source": [
        "### **Implementation & Efficiency**\n"
      ]
    },
    {
      "cell_type": "markdown",
      "metadata": {
        "id": "sPJ6t3LI3nC2",
        "colab_type": "text"
      },
      "source": [
        "#### **Quick Sort**"
      ]
    },
    {
      "cell_type": "markdown",
      "metadata": {
        "id": "1sxRnVah3py0",
        "colab_type": "text"
      },
      "source": [
        "Quick sort is also a divide and conquer algorithm like merge sort. Although it’s a bit more complicated, in most standard implementations it performs significantly faster than merge sort and rarely reaches its worst case complexity of O(n²). It has 3 main steps:\n",
        "(1) We first select an element which we will call the pivot from the array.\n",
        "(2) Move all elements that are smaller than the pivot to the left of the pivot; move all elements that are larger than the pivot to the right of the pivot. This is called the partition operation.\n",
        "(3) Recursively apply the above 2 steps separately to each of the sub-arrays of elements with smaller and bigger values than the last pivot.\n",
        "\n",
        "![alt text](https://miro.medium.com/max/600/1*hk2TL8m8Kn1TVvewAbAclQ.gif)"
      ]
    },
    {
      "cell_type": "code",
      "metadata": {
        "id": "AtmPBK8U30-A",
        "colab_type": "code",
        "colab": {}
      },
      "source": [
        "def partition(array, begin, end):\n",
        "    pivot_idx = begin\n",
        "    for i in xrange(begin+1, end+1):\n",
        "        if array[i] <= array[begin]:\n",
        "            pivot_idx += 1\n",
        "            array[i], array[pivot_idx] = array[pivot_idx], array[i]\n",
        "    array[pivot_idx], array[begin] = array[begin], array[pivot_idx]\n",
        "    return pivot_idx\n",
        "\n",
        "def quick_sort_recursion(array, begin, end):\n",
        "    if begin >= end:\n",
        "        return\n",
        "    pivot_idx = partition(array, begin, end)\n",
        "    quick_sort_recursion(array, begin, pivot_idx-1)\n",
        "    quick_sort_recursion(array, pivot_idx+1, end)\n",
        "\n",
        "def quick_sort(array, begin=0, end=None):\n",
        "    if end is None:\n",
        "        end = len(array) - 1\n",
        "    \n",
        "    return quick_sort_recursion(array, begin, end)"
      ],
      "execution_count": 0,
      "outputs": []
    },
    {
      "cell_type": "markdown",
      "metadata": {
        "id": "KA27Ugh92vzz",
        "colab_type": "text"
      },
      "source": [
        "#### **Merge Sort**\n"
      ]
    },
    {
      "cell_type": "markdown",
      "metadata": {
        "id": "7H83cnqC21vp",
        "colab_type": "text"
      },
      "source": [
        "Merge sort is a perfectly elegant example of a Divide and Conquer algorithm. It simple uses the 2 main steps of such an algorithm:\n",
        "(1) Continuously divide the unsorted list until you have N sublists, where each sublist has 1 element that is “unsorted” and N is the number of elements in the original array.\n",
        "(2) Repeatedly merge i.e conquer the sublists together 2 at a time to produce new sorted sublists until all elements have been fully merged into a single sorted array.\n",
        "\n",
        "![alt text](https://miro.medium.com/max/600/1*fE7yGW2WPaltJWo6OnZ8LQ.gif)\n",
        "\n"
      ]
    },
    {
      "cell_type": "code",
      "metadata": {
        "id": "oWJtXjVQ2-Np",
        "colab_type": "code",
        "colab": {}
      },
      "source": [
        "def merge_sort(arr):\n",
        "    # The last array split\n",
        "    if len(arr) <= 1:\n",
        "        return arr\n",
        "    mid = len(arr) // 2\n",
        "    # Perform merge_sort recursively on both halves\n",
        "    left, right = merge_sort(arr[:mid]), merge_sort(arr[mid:])\n",
        "\n",
        "    # Merge each side together\n",
        "    return merge(left, right, arr.copy())\n",
        "\n",
        "\n",
        "def merge(left, right, merged):\n",
        "\n",
        "    left_cursor, right_cursor = 0, 0\n",
        "    while left_cursor < len(left) and right_cursor < len(right):\n",
        "      \n",
        "        # Sort each one and place into the result\n",
        "        if left[left_cursor] <= right[right_cursor]:\n",
        "            merged[left_cursor+right_cursor]=left[left_cursor]\n",
        "            left_cursor += 1\n",
        "        else:\n",
        "            merged[left_cursor + right_cursor] = right[right_cursor]\n",
        "            right_cursor += 1\n",
        "            \n",
        "    for left_cursor in range(left_cursor, len(left)):\n",
        "        merged[left_cursor + right_cursor] = left[left_cursor]\n",
        "        \n",
        "    for right_cursor in range(right_cursor, len(right)):\n",
        "        merged[left_cursor + right_cursor] = right[right_cursor]\n",
        "\n",
        "    return merged"
      ],
      "execution_count": 0,
      "outputs": []
    },
    {
      "cell_type": "markdown",
      "metadata": {
        "id": "ciUUdRBc2dLa",
        "colab_type": "text"
      },
      "source": [
        "#### **Insertion Sort**"
      ]
    },
    {
      "cell_type": "markdown",
      "metadata": {
        "id": "HfLNxlqx2hWi",
        "colab_type": "text"
      },
      "source": [
        "Insertion sort is both faster and well-arguably more simplistic than both bubble sort and selection sort. Funny enough, it’s how many people sort their cards when playing a card game! On each loop iteration, insertion sort removes one element from the array. It then finds the location where that element belongs within another sorted array and inserts it there. It repeats this process until no input elements remain.\n",
        "\n",
        "![alt text](https://miro.medium.com/max/1000/1*onU9OmVftR5WeoLWh14iZw.gif)\n",
        "\n",
        "    "
      ]
    },
    {
      "cell_type": "code",
      "metadata": {
        "id": "JaWwEded3MV8",
        "colab_type": "code",
        "colab": {}
      },
      "source": [
        "def insertion_sort(arr):\n",
        "        \n",
        "    for i in range(len(arr)):\n",
        "        cursor = arr[i]\n",
        "        pos = i\n",
        "        \n",
        "        while pos > 0 and arr[pos - 1] > cursor:\n",
        "            # Swap the number down the list\n",
        "            arr[pos] = arr[pos - 1]\n",
        "            pos = pos - 1\n",
        "        # Break and do the final swap\n",
        "        arr[pos] = cursor\n",
        "\n",
        "    return arr"
      ],
      "execution_count": 0,
      "outputs": []
    },
    {
      "cell_type": "markdown",
      "metadata": {
        "id": "B062789Czbx8",
        "colab_type": "text"
      },
      "source": [
        "#### **Selection Sort**\n",
        "\n",
        "\n",
        "\n",
        "\n"
      ]
    },
    {
      "cell_type": "markdown",
      "metadata": {
        "id": "bZi_Juf-2LUp",
        "colab_type": "text"
      },
      "source": [
        "Selection sort is also quite simple but frequently outperforms bubble sort. If you are choosing between the two, it’s best to just default right to selection sort. With Selection sort, we divide our input list / array into two parts: the sublist of items already sorted and the sublist of items remaining to be sorted that make up the rest of the list. We first find the smallest element in the unsorted sublist and place it at the end of the sorted sublist. Thus, we are continuously grabbing the smallest unsorted element and placing it in sorted order in the sorted sublist. This process continues iteratively until the list is fully sorted.\n",
        "\n",
        "![alt text](https://miro.medium.com/max/1102/1*OA7a3OGWmGMRJQmwkGIwAw.gif)\n",
        "\n",
        "    "
      ]
    },
    {
      "cell_type": "code",
      "metadata": {
        "id": "yS8PYTpC3WJD",
        "colab_type": "code",
        "colab": {}
      },
      "source": [
        "def selection_sort(arr):        \n",
        "    for i in range(len(arr)):\n",
        "        minimum = i\n",
        "        \n",
        "        for j in range(i + 1, len(arr)):\n",
        "            # Select the smallest value\n",
        "            if arr[j] < arr[minimum]:\n",
        "                minimum = j\n",
        "\n",
        "        # Place it at the front of the \n",
        "        # sorted end of the array\n",
        "        arr[minimum], arr[i] = arr[i], arr[minimum]\n",
        "            \n",
        "    return arr"
      ],
      "execution_count": 0,
      "outputs": []
    },
    {
      "cell_type": "markdown",
      "metadata": {
        "id": "cI_MnBdUzHQB",
        "colab_type": "text"
      },
      "source": [
        "#### **Bubble Sort**\n"
      ]
    },
    {
      "cell_type": "markdown",
      "metadata": {
        "id": "B25frG9TzXJU",
        "colab_type": "text"
      },
      "source": [
        "Bubble sort is the one usually taught in introductory CS classes since it clearly demonstrates how sort works while being simple and easy to understand. Bubble sort steps through the list and compares adjacent pairs of elements. The elements are swapped if they are in the wrong order. The pass through the unsorted portion of the list is repeated until the list is sorted. Because Bubble sort repeatedly passes through the unsorted part of the list, it has a worst case complexity of O(n²).\n",
        "\n",
        "![alt text](https://miro.medium.com/max/600/1*LllBj5cbV91URiuzAB-xzw.gif)\n",
        "\n"
      ]
    },
    {
      "cell_type": "code",
      "metadata": {
        "id": "y5-XhwzD3dnm",
        "colab_type": "code",
        "colab": {}
      },
      "source": [
        "def bubble_sort(arr):\n",
        "    def swap(i, j):\n",
        "        arr[i], arr[j] = arr[j], arr[i]\n",
        "\n",
        "    n = len(arr)\n",
        "    swapped = True\n",
        "    \n",
        "    x = -1\n",
        "    while swapped:\n",
        "        swapped = False\n",
        "        x = x + 1\n",
        "        for i in range(1, n-x):\n",
        "            if arr[i - 1] > arr[i]:\n",
        "                swap(i - 1, i)\n",
        "                swapped = True\n",
        "                    \n",
        "    return arr"
      ],
      "execution_count": 0,
      "outputs": []
    },
    {
      "cell_type": "markdown",
      "metadata": {
        "id": "a_J3GNb2tY46",
        "colab_type": "text"
      },
      "source": [
        "# **Hash Tables & Sets**\n"
      ]
    },
    {
      "cell_type": "markdown",
      "metadata": {
        "id": "h_NwHV9c4J5_",
        "colab_type": "text"
      },
      "source": [
        "### **Concept**\n",
        "\n",
        "Data structure that makes an association between sets of things (key-value pair). It stores items in key-value pairs. You can access its value by its key. Not sorted or ordered. "
      ]
    },
    {
      "cell_type": "markdown",
      "metadata": {
        "id": "DicOimTR4TSG",
        "colab_type": "text"
      },
      "source": [
        "### **API & Efficiency**"
      ]
    },
    {
      "cell_type": "markdown",
      "metadata": {
        "id": "JwNJbRPn5kIn",
        "colab_type": "text"
      },
      "source": [
        "1. Access/Retrieval => O(1)\n",
        "2. storage() => O(1)\n",
        "3. search() => O(1)\n",
        "4. insertion() => O(1)\n",
        "5. deletion() => O(1)"
      ]
    },
    {
      "cell_type": "markdown",
      "metadata": {
        "id": "p8clSlq94cEn",
        "colab_type": "text"
      },
      "source": [
        "### **Implementation**\n",
        "\n",
        "Uses a hash map; an abstraction that usess an array and a special function, known as a hash function which allows to store and retrieve values. It computed the index of the value stored in the array. \n",
        "\n",
        "In Python, you can use a built in data type known as a dictionary."
      ]
    },
    {
      "cell_type": "markdown",
      "metadata": {
        "id": "VIK3Gcq3PeZX",
        "colab_type": "text"
      },
      "source": [
        "#### **Example**"
      ]
    },
    {
      "cell_type": "code",
      "metadata": {
        "id": "ppwkWg6062D0",
        "colab_type": "code",
        "colab": {}
      },
      "source": [
        "#How you makea hash table\n",
        "food = {\"candy\":\"starburst\",\n",
        "        \"veggie\":\"broccoli\",\n",
        "        \"meal\":\"steak\"}\n",
        "#How to access the dictionary\n",
        "food.get(\"candy\") #this gets the key-value pair\n",
        "food[\"candy\"] #gets the key's values\n",
        "food[\"candy\"]=\"m&m\" #changes the values\n",
        "for x in food:\n",
        "  print(x) #prints the keys\n",
        "  print(food[x]) #prints the values"
      ],
      "execution_count": 0,
      "outputs": []
    },
    {
      "cell_type": "markdown",
      "metadata": {
        "id": "8tpZ0t9-tbaz",
        "colab_type": "text"
      },
      "source": [
        "# **Linked Lists**"
      ]
    },
    {
      "cell_type": "markdown",
      "metadata": {
        "id": "7DfgRxMt89Jj",
        "colab_type": "text"
      },
      "source": [
        "## **Concept**\n",
        "\n",
        "A Linked List is a data structure that consists of many mini-data structures called ‘Nodes.’ The Nodes link together to form a list and contain both Data and a Next pointer. Unlike arrays, linked list nodes are not stored sequentially in memory; they are linked using pointers. Notice the pointers (arrows) only go in one direction (from A to B to C to D).  We can only travel forward in a singly linked list."
      ]
    },
    {
      "cell_type": "markdown",
      "metadata": {
        "id": "mVPzJ4hl8l-g",
        "colab_type": "text"
      },
      "source": [
        "\n",
        "\n",
        "## **API & Efficiency**\n",
        "\n",
        "**Linked List Structure**:\n",
        ">Sentinel Node or Head: 1st Node\n",
        "Next Node\n",
        "Previous Node (if Doubly linked-list)\n",
        ">**Singly-Linked List**\n",
        "1. Access O(n)\n",
        "2. Search O(n)\n",
        "3. Insertion O(1) if the head node otherwise if in the middle or the end it is O(n)\n",
        "4. Deletion O(1) if the head node otherwise if in the middle or the end it is O(n)\n",
        "\n",
        ">**Doubly-Linked List**\n",
        "1. Access O(n)\n",
        "2. Search O(n)\n",
        "3. Insertion O(1)\n",
        ">>inserting and deletiong specific node => O(n)\n",
        "4. Deletion O(1) \n",
        "complexity in Big O notation."
      ]
    },
    {
      "cell_type": "markdown",
      "metadata": {
        "id": "4wJyrPTp83cA",
        "colab_type": "text"
      },
      "source": [
        "\n",
        "## **Implementation & Efficiency**\n",
        "\n",
        "This is a data structure that consists of multiple mini-data data structures called 'Nodes.\" Within thse nodes, contais data, a next, and a head. Instead of using indexes to access data, the use of pointers replace that. In a singly-linked list, you can only go in one direction. However, in a doubly-linked list you are able to go into two directions. "
      ]
    },
    {
      "cell_type": "markdown",
      "metadata": {
        "id": "oI4yPxm7PpWI",
        "colab_type": "text"
      },
      "source": [
        "#### **Example:**"
      ]
    },
    {
      "cell_type": "code",
      "metadata": {
        "id": "9hBtix8k-o6H",
        "colab_type": "code",
        "colab": {}
      },
      "source": [
        "# LinkedList: A doubly-linked list.\n",
        "# Bonus: Has an insert_in_order that, when used, keeps the values of\n",
        "#        each node in ascending order.\n",
        "# Implement as many operations as possible with recursion.\n",
        "# If you can't figure it out recursively, use a loop. (But then refactor\n",
        "# your implementation into a recursive one!)\n",
        "# Your implementation should pass the tests in test_sorted_list.py.\n",
        "# Adrianna\n",
        "\n",
        "\n",
        "class LinkedList:\n",
        "    def __init__(self, value=None):\n",
        "        self.value = value\n",
        "        self.next = self  # set to None\n",
        "        self.prev = self  # set to None\n",
        "       \n",
        "\n",
        "    def is_sentinel(self):\n",
        "        if self.value == None:\n",
        "            return True\n",
        "        else:\n",
        "            return False\n",
        "\n",
        "    def is_empty(self):\n",
        "\n",
        "        if self.next is not self or self.prev is not self:\n",
        "            return False\n",
        "        return True\n",
        "\n",
        "  \n",
        "    def is_last(self):\n",
        "        if self.next.is_sentinel():\n",
        "            return True\n",
        "        else:\n",
        "            return False\n",
        "      # If it is the last node, you are going to return its value otherwise you got set the next value to self to make\n",
        "      # a new node\n",
        "\n",
        "    def last(self):\n",
        "        if self.next.is_sentinel():\n",
        "            return self\n",
        "        else:\n",
        "            self = self.next\n",
        "            return self.last()\n",
        "\n",
        "    def append(self, node):\n",
        "\n",
        "        if self.is_empty():\n",
        "            # self.next = node\n",
        "            node.next = self\n",
        "            node.prev = self\n",
        "            self.prev = node\n",
        "            self.next = node\n",
        "        elif self.is_last():\n",
        "          node.next = self.next\n",
        "          self.next = node\n",
        "          node.prev = self\n",
        "          node.next.prev = node\n",
        "        else:\n",
        "            self = self.next\n",
        "            self.append(node)\n",
        "      \n",
        "    def delete(self):\n",
        "        if self != None:\n",
        "            self.prev.next = self.next\n",
        "            self.next.prev = self.prev\n",
        "            del(self)\n",
        "    def insert(self, new_node):\n",
        "        left_node = self\n",
        "        right_node = self.next\n",
        "        if self != None:\n",
        "            right_node.prev.next = new_node\n",
        "            new_node.prev = left_node\n",
        "            right_node.prev = new_node\n",
        "            new_node.next = right_node\n",
        "\n",
        "\n",
        "    def at(self,node_value):\n",
        "      counter = 0 \n",
        "      current = self\n",
        "\n",
        "      while(current):\n",
        "          if(counter == node_value):\n",
        "              return current\n",
        "          counter += 1\n",
        "          current = current.next  \n",
        "\n",
        "\n",
        "    def search(self, item):\n",
        "       \n",
        "        while self != self.last():\n",
        "          if self.next.value == item:\n",
        "                return self.next\n",
        "          else:\n",
        "                return None\n",
        "\n",
        "\n",
        "\n",
        "\n",
        "    def insert_in_order(self, new_node):\n",
        "        # Insertion at begginning\n",
        "        if self == None or new_node.value > 0:\n",
        "            #point rest of the list after new node \n",
        "            self.insert(new_node) \n",
        "\n",
        "            return new_node\n",
        "\n",
        "        #insertion in the middle\n",
        "\n",
        "        while new_node != None:\n",
        "            if new_node.value > 0:\n",
        "                self.next= new_node\n",
        "                new_node.next = self\n",
        "                return self\n",
        "            self.prev = self    \n",
        "            self = self.next\n",
        "        #Insert at the end\n",
        "\n",
        "        self.prev = new_node\n",
        "        return self"
      ],
      "execution_count": 0,
      "outputs": []
    },
    {
      "cell_type": "markdown",
      "metadata": {
        "colab_type": "text",
        "id": "y8o6gfTMCwc2"
      },
      "source": [
        "# **Stacks**\n",
        "\n",
        "\n"
      ]
    },
    {
      "cell_type": "markdown",
      "metadata": {
        "id": "Iof3PeWOCytq",
        "colab_type": "text"
      },
      "source": [
        "## **Concept** "
      ]
    },
    {
      "cell_type": "markdown",
      "metadata": {
        "id": "zfI2lgHbC2Ci",
        "colab_type": "text"
      },
      "source": [
        "Stacks are data structures that can grow and shrink during runtime (dynamic data structures). The last item to be inserted into a stack is the first one to be deleted from it. This is called the Last In First Out (LIFO) principle. "
      ]
    },
    {
      "cell_type": "markdown",
      "metadata": {
        "id": "EabM-2-yDBr0",
        "colab_type": "text"
      },
      "source": [
        "## **API & Efficiency**"
      ]
    },
    {
      "cell_type": "markdown",
      "metadata": {
        "id": "I8Ei2bRfDJjD",
        "colab_type": "text"
      },
      "source": [
        "**Time Complexities**\n",
        ">1. Access => O(n)\n",
        "2. Search => O(n)\n",
        "3. Insertion => O(1)\n",
        "4. Deletion => O(1)\n",
        "\n",
        "1. stack()\n",
        ">creates new stack that is empty. It needs no parameters and return empty stack.\n",
        "2. push(item)\n",
        ">adds new item to top. Needs item/returns nothing\n",
        "3. pop()\n",
        ">removes the top item from stack. No parameters\n",
        "4. peek()\n",
        ">returns the top item from the stack but does not remove it; no parameters, stack is not modified. \n",
        "5. isEmpty()\n",
        ">checks wheter stack is empty; no parameters, returns boolean\n",
        "6. size()\n",
        ">returns the number of items on the stack"
      ]
    },
    {
      "cell_type": "markdown",
      "metadata": {
        "id": "agY5u2lyFOQT",
        "colab_type": "text"
      },
      "source": [
        "## **Implementation**\n",
        "\n",
        "The underlying data structure is a dynamic array. However, what makes this different is the order in which an item is stored. The storage of this data structure puts a new item in storage on the top (rear) and that item will also be the first to be removed. "
      ]
    },
    {
      "cell_type": "markdown",
      "metadata": {
        "id": "wTwQZqLmSj3K",
        "colab_type": "text"
      },
      "source": [
        "## **Example**\n",
        "\n"
      ]
    },
    {
      "cell_type": "code",
      "metadata": {
        "id": "lU3sTrKoGIHa",
        "colab_type": "code",
        "colab": {}
      },
      "source": [
        "class Stack:\n",
        "   def __init__(self):\n",
        "       self.items = []\n",
        "\n",
        "   def is_empty(self):\n",
        "     return self.items == []   \n",
        "\n",
        "   def pop(self):\n",
        "     return self.items.pop() \n",
        "\n",
        "   def peek(self):\n",
        "        return self.items[len(self.items)-1]\n",
        "\n",
        "   def push(self, item):\n",
        "       return self.items.append(item)"
      ],
      "execution_count": 0,
      "outputs": []
    },
    {
      "cell_type": "markdown",
      "metadata": {
        "id": "RwmHRYlWtffe",
        "colab_type": "text"
      },
      "source": [
        "# **Queues & Deques**"
      ]
    },
    {
      "cell_type": "markdown",
      "metadata": {
        "id": "qPQdkQIMGjea",
        "colab_type": "text"
      },
      "source": [
        "## **Concept**"
      ]
    },
    {
      "cell_type": "markdown",
      "metadata": {
        "id": "Rzo0M_40GoJM",
        "colab_type": "text"
      },
      "source": [
        "#### **Queue**\n",
        "Ordered collection of items. New items are added at one end, commonly called \"rear\", or \"tail.\" Existing items are removed from the other end, \"head\"or \"front.\" When entered in queue, they make their way to the front, until they are the next item to be removed. "
      ]
    },
    {
      "cell_type": "markdown",
      "metadata": {
        "id": "NFm82T3DG1qV",
        "colab_type": "text"
      },
      "source": [
        "#### **Dequeue**\n",
        "\n",
        "This is a doubly-ended queue. This data structure has two ends, 'Fornt' and 'Rear\". This is a linear data structure. This means the relative order of its items are maintained. This differs from a queue in that they handle how items are added and removed. Items can be added to either the end and existing items can be removed from either end. "
      ]
    },
    {
      "cell_type": "markdown",
      "metadata": {
        "id": "y0pKR_wsGcZv",
        "colab_type": "text"
      },
      "source": [
        "## **API & Efficiency**"
      ]
    },
    {
      "cell_type": "markdown",
      "metadata": {
        "id": "SHWqUZ8AHiEh",
        "colab_type": "text"
      },
      "source": [
        "#### **Queue**\n",
        "\n",
        "**Time Complexities**\n",
        ">1. Access => O(n)\n",
        "2. Search => O(n)\n",
        "3. Insertion => O(1)\n",
        "4. Deletion => O(1)\n",
        "\n",
        "1. isEmpty()\n",
        ">return selt.items == []\n",
        "2. enqueue()\n",
        ">return self.items.insert(0,item)\n",
        "3. dequeue()\n",
        ">returnself.items.pop()\n",
        "4. size()\n",
        ">return len)self.items)"
      ]
    },
    {
      "cell_type": "markdown",
      "metadata": {
        "id": "K9cUk5mpHd2U",
        "colab_type": "text"
      },
      "source": [
        "#### **Dequeue**\n",
        "1. In a doubly-linked list implementation and assuming no allocation/deallocation overhead, the time complexity of all deque operations is O(1). Additionally, the time complexity of insertion or deletion in the middle, given an iterator, is O(1); however, the time complexity of random access by index is O(n).\n",
        "2. In a growing array, the amortized time complexity of all deque operations is O(1). Additionally, the time complexity of random access by index is O(1); but the time complexity of insertion or deletion in the middle is O(n)."
      ]
    },
    {
      "cell_type": "markdown",
      "metadata": {
        "id": "PpEHAuzTGSEm",
        "colab_type": "text"
      },
      "source": [
        "## **Implementation**"
      ]
    },
    {
      "cell_type": "markdown",
      "metadata": {
        "id": "oQ0nDQsjGbEs",
        "colab_type": "text"
      },
      "source": [
        "#### **Queue**\n"
      ]
    },
    {
      "cell_type": "markdown",
      "metadata": {
        "id": "YLQ7xdGST0WA",
        "colab_type": "text"
      },
      "source": [
        "\n",
        "Queues use a list in the background. This is a First in First Out data structure, which means that when an item is stored in this data structure, it will be the next in the order to be removed. "
      ]
    },
    {
      "cell_type": "markdown",
      "metadata": {
        "id": "jtC2gJAvT5DB",
        "colab_type": "text"
      },
      "source": [
        "#### **Example:**"
      ]
    },
    {
      "cell_type": "code",
      "metadata": {
        "id": "FqmsxXnRJZBI",
        "colab_type": "code",
        "colab": {}
      },
      "source": [
        "Learn more or give us feedback\n",
        "# Queue: A queue.\n",
        "# Your implementation should pass the tests in test_queue.py.\n",
        "# YOUR NAME\n",
        "\n",
        "# Hint: pip3 install llist\n",
        "from pyllist import sllist\n",
        "\n",
        "\n",
        "\n",
        "class Queue:\n",
        "    def __init__(self):\n",
        "        self.data = sllist()\n",
        "\n",
        "    def is_empty(self):\n",
        "        return self.data == []\n",
        "\n",
        "    def enqueue(self, value):\n",
        "        self.data.append(value)\n",
        "    \n",
        "    def dequeue(self):\n",
        "        if self.is_empty():\n",
        "            raise ValueError\n",
        "        else:\n",
        "            return self.data.remove(self.data.nodeat(0)) "
      ],
      "execution_count": 0,
      "outputs": []
    },
    {
      "cell_type": "markdown",
      "metadata": {
        "id": "qGCAVb8AHoRl",
        "colab_type": "text"
      },
      "source": [
        "#### **Dequeue**"
      ]
    },
    {
      "cell_type": "markdown",
      "metadata": {
        "id": "2NJO4Z5LHnU3",
        "colab_type": "text"
      },
      "source": [
        "Deque uses a combination of a stack and a queue, which enable it to be able to remove and add an element to either the front or the rear. "
      ]
    },
    {
      "cell_type": "markdown",
      "metadata": {
        "id": "HVstjbsdSzb6",
        "colab_type": "text"
      },
      "source": [
        "##### **Example**"
      ]
    },
    {
      "cell_type": "code",
      "metadata": {
        "id": "InlfFPlFLK7M",
        "colab_type": "code",
        "colab": {}
      },
      "source": [
        "# Deque: A deque.\n",
        "# Your implementation should pass the tests in test_deque.py.\n",
        "# YOUR NAME\n",
        "\n",
        "# Hint: pip3 install llist\n",
        "from llist import dllist\n",
        "\n",
        "class Deque:\n",
        "    def __init__(self):\n",
        "       self.data = dllist()\n",
        "    \n",
        "    def enqueue_left(self, value):\n",
        "        return self.data.appendleft(value)\n",
        "    def enqueue_right(self, value):\n",
        "        return self.data.appendright(value)\n",
        "    def dequeue_left(self):\n",
        "        return self.data.popleft() \n",
        "    def dequeue_right(self):\n",
        "        return self.data.popright()   \n",
        "    def is_empty(self):\n",
        "        if self.data.first == None:\n",
        "            return True\n",
        "        else:\n",
        "            return False   "
      ],
      "execution_count": 0,
      "outputs": []
    },
    {
      "cell_type": "markdown",
      "metadata": {
        "id": "xpVhxnMVtiCQ",
        "colab_type": "text"
      },
      "source": [
        "# **Binary Search Trees & Traversals**"
      ]
    },
    {
      "cell_type": "markdown",
      "metadata": {
        "id": "GVmD3j8ChBI2",
        "colab_type": "text"
      },
      "source": [
        "#### **Concept**"
      ]
    },
    {
      "cell_type": "markdown",
      "metadata": {
        "id": "47GNV2LUi7ZB",
        "colab_type": "text"
      },
      "source": [
        "This data structure is hierarchial (sorted) and it is a collection of nodes that have roots (always the first node), one parent, and two children. A node with no children is considered a leaf. There is a property that holds true to all BSTs and that is and that is as follows: the keys that are less than a parent are found in the left subtree, and key that are greater than the parent are found in the right subtree. "
      ]
    },
    {
      "cell_type": "markdown",
      "metadata": {
        "id": "8iIqdjYzhWAN",
        "colab_type": "text"
      },
      "source": [
        "\n",
        "#### **API & Efficiency**\n"
      ]
    },
    {
      "cell_type": "markdown",
      "metadata": {
        "id": "Hr0LrOTFkfDd",
        "colab_type": "text"
      },
      "source": [
        "1. searching() => O(log(n))\n",
        "2. insertion() => O(log(n))\n",
        "3. deletion()  => O(log(n))\n",
        "\n",
        "#### **Traversals**\n",
        "\n",
        "1. In a **preorder traversal**, we visit the root node first, then recursively do a preorder \n",
        "traversal of the left subtree, followed by a recursive preorder traversal of the right  subtree.(Root, Left, Right) \n",
        "2.  In an **inorder traversal**, we recursively do an inorder traversal on the left subtree, visit \n",
        "the root node, and finally do a recursive inorder traversal of the right subtree. (Left,  Root, Right) \n",
        "3. In a **postorder traversal**, we recursively do a postorder traversal of the left subtree and \n",
        "the right subtree followed by a visit to the root node.(Left, Right, Root) \n",
        "\n"
      ]
    },
    {
      "cell_type": "markdown",
      "metadata": {
        "id": "0xnjPjGlhuJs",
        "colab_type": "text"
      },
      "source": [
        "####  **Implementation**\n",
        "\n",
        "\n",
        "\n"
      ]
    },
    {
      "cell_type": "markdown",
      "metadata": {
        "id": "60AoMyi0MnRF",
        "colab_type": "text"
      },
      "source": [
        "The implementation of this abstract data structure is usually done with linked lists, where you have pointers and nodes. Since this is a hierarchical data structure, order is very important when implementing this. "
      ]
    },
    {
      "cell_type": "markdown",
      "metadata": {
        "id": "S9za3bp1hzj0",
        "colab_type": "text"
      },
      "source": [
        "#### **Example**\n",
        "\n",
        "\n",
        "\n"
      ]
    },
    {
      "cell_type": "markdown",
      "metadata": {
        "id": "NkwsDONpMwaZ",
        "colab_type": "text"
      },
      "source": [
        "\n",
        "```\n",
        "# BinarySearchTree: A binary search tree.\n",
        "# Implement as many operations as possible with recursion.\n",
        "# If you can't figure it out recursively, use a loop. (But then refactor\n",
        "# your implementation into a recursive one!)\n",
        "# Your implementation should pass the tests in test_bst.py.\n",
        "# YOUR NAME\n",
        "\n",
        "#Stores Data that uses log(n)\n",
        "#Grows Logarithmically\n",
        "\n",
        "class BinarySearchTree:\n",
        "    def __init__(self, key = None):\n",
        "        self.key = key\n",
        "        self.left = None\n",
        "        self.right = None\n",
        "  \n",
        "\n",
        "    def insert(self, node):\n",
        "      if node.key <= self.key:\n",
        "          if self.left:\n",
        "              self.left.insert(node)\n",
        "          else:\n",
        "              self.left = node     \n",
        "      elif node.key >= self.key: \n",
        "          if self.right:\n",
        "              self.right.insert(node) \n",
        "          else:\n",
        "              self.right = node    \n",
        "    def search(self, key):\n",
        "        #check to see if current key is greater than new key (if it is, it means its a left child)\n",
        "        # then see if there is a key in the left child\n",
        "        # if search finds that there is no more left\n",
        "        # children keys, then return none      \n",
        "        if self.key > key:\n",
        "           \n",
        "            if self.left is not None:\n",
        "                return self.left.search(key)\n",
        "            else:\n",
        "                return None\n",
        "        #check to see if current key is less than new key (if it is, it means its a right child)\n",
        "        # then see if there is a key in the right child\n",
        "        # if search finds that there is no more right\n",
        "        # children keys, then return none        \n",
        "        elif self.key < key:\n",
        "            if self.right is not None:\n",
        "                return self.right.search(key)\n",
        "            else:\n",
        "                return None\n",
        "        #When all the conditions are met, then self becomes\n",
        "        # the searched node, so that is the node that needs to be returned        \n",
        "        return self    \n",
        "\n",
        "   \n",
        "            \n",
        "    def delete(self, key):\n",
        "        #if the key is less than self.key we recursively call delete on the left\n",
        "        # subtree \n",
        "        if key < self.key:\n",
        "            if self.left is not None:\n",
        "                self.left = self.left.delete(key)\n",
        "            #gets you back to the root \n",
        "            return self\n",
        "\n",
        "                    \n",
        "        # if the key is less than self.key we recursively call delete on the right\n",
        "        # subtree       \n",
        "        elif key > self.key:\n",
        "            if self.right is not None:\n",
        "                self.right = self.right.delete(key)\n",
        "            return self      \n",
        "\n",
        "\n",
        "        elif key == self.key:\n",
        "            if self.is_leaf():\n",
        "                return None\n",
        "            elif self.has_left_child() and not self.has_right_child():\n",
        "                return self.left\n",
        "            elif self.has_right_child() and not self.has_left_child():\n",
        "                return self.right \n",
        "            else:\n",
        "                new_root = self.right.minimum()\n",
        "                new_root.right = self.right.delete(new_root.key)\n",
        "                new_root.left = self.left \n",
        "                return new_root              \n",
        "                     \n",
        "    \n",
        "    def minimum(self):\n",
        "        if self.left == None:\n",
        "            return self\n",
        "        else:\n",
        "            self = self.left\n",
        "           \n",
        "        return  self.minimum()   \n",
        "            \n",
        "                   \n",
        "         \n",
        "    def is_leaf(self):\n",
        "        return not (self.right or self.left) \n",
        "\n",
        "\n",
        "    def has_left_child(self):\n",
        "        return not (self.left is None)\n",
        "\n",
        "    def has_right_child(self):\n",
        "        return not (self.right is None) \n",
        "\n",
        "    def keys(self, key):\n",
        "        result = []  \n",
        "        if key == 'pre':\n",
        "          result.append(self.key)\n",
        "          return result\n",
        "        elif key == \"in\":\n",
        "            result.append(self.key)\n",
        "            return result\n",
        "        elif key == \"post\":\n",
        "            result.append(self.key)\n",
        "            return result   \n",
        "```\n"
      ]
    },
    {
      "cell_type": "markdown",
      "metadata": {
        "id": "4dRxbIE8toRd",
        "colab_type": "text"
      },
      "source": [
        "# **Priority Queues & Binary Heaps** "
      ]
    },
    {
      "cell_type": "markdown",
      "metadata": {
        "id": "9QfxjgE8JmLI",
        "colab_type": "text"
      },
      "source": [
        "### **Concept**"
      ]
    },
    {
      "cell_type": "markdown",
      "metadata": {
        "id": "KV1bukfHIe52",
        "colab_type": "text"
      },
      "source": [
        "##### **Binary Heap**\n",
        "\n",
        "this is semi-structured. A binary tree, which means that it has all levels filled except possibly the last level which has all nodes as left as possible.\n",
        "\n",
        "Min-Heap:\n",
        "\n",
        "the value of each node is greater than or equal to the value of its parent with the minimum-value element at the root and the smallest key is always stored at the root.\n",
        "\n",
        "##### **Max-Heap**\n",
        "\n",
        "the value of each node is less than or equal to the value of its parent, with the maximum-value element at the root. The larest key is always stored at the root.\n",
        "\n",
        "##### **Priority Queue**\n",
        "\n",
        "This is an abstract data type that associates a priority (high or low) with each element. In addition, the higher priority items are decqueued before the lower-priority items."
      ]
    },
    {
      "cell_type": "markdown",
      "metadata": {
        "id": "lk-lRpfmiFpK",
        "colab_type": "text"
      },
      "source": [
        "#### **API & Efficiency**\n"
      ]
    },
    {
      "cell_type": "markdown",
      "metadata": {
        "id": "uaN4DQNeh__8",
        "colab_type": "text"
      },
      "source": [
        "#### **Implementation**\n"
      ]
    },
    {
      "cell_type": "markdown",
      "metadata": {
        "id": "jikQJC4zh721",
        "colab_type": "text"
      },
      "source": [
        "#### **Example**"
      ]
    },
    {
      "cell_type": "markdown",
      "metadata": {
        "id": "B1CahPPbKhVg",
        "colab_type": "text"
      },
      "source": [
        "### **API & Efficiency**\n",
        "\n",
        "\n",
        "\n"
      ]
    },
    {
      "cell_type": "markdown",
      "metadata": {
        "id": "v4OjXo_QNAOC",
        "colab_type": "text"
      },
      "source": [
        "#### **Priority Queue**\n",
        "\n",
        "1. enqueue() => O(log(n)) \n",
        "  1. when enqueueing in the middle it will be O(n) because a shift will occur.\n",
        "2. search() => O(log(n))\n",
        "3. dequeue() => O(log(n))\n",
        "\n",
        "\n",
        "#### **Binary Heaps**\n",
        "\n",
        "1. enqueue() => O(log(n))\n",
        "2. search() => O(1)\n",
        "3. dequeue() => O(log(n))"
      ]
    },
    {
      "cell_type": "markdown",
      "metadata": {
        "id": "Fe03lV9-KuEw",
        "colab_type": "text"
      },
      "source": [
        "### **Implementation**"
      ]
    },
    {
      "cell_type": "markdown",
      "metadata": {
        "id": "9aOe7ra6lyA6",
        "colab_type": "text"
      },
      "source": [
        "We can use heaps to implement the priority queue and we can use arrays or lists to build the heap. \n",
        "\n",
        "\n",
        "\n"
      ]
    },
    {
      "cell_type": "markdown",
      "metadata": {
        "id": "Ny8zfpEgKym5",
        "colab_type": "text"
      },
      "source": [
        "### **Example**\n",
        "\n"
      ]
    },
    {
      "cell_type": "markdown",
      "metadata": {
        "id": "HTRgia5rqqpI",
        "colab_type": "text"
      },
      "source": [
        "##### **Complete Binary Tree == Binary Heap:**\n",
        "![complete](https://he-s3.s3.amazonaws.com/media/uploads/f1ee0cf.jpg)\n",
        "\n",
        "##### **Binary Heap as an array:**\n",
        "\n",
        "![link text](https://he-s3.s3.amazonaws.com/media/uploads/2270b0f.jpg)\n",
        "\n",
        "##### **Example of Max and Min Priority Queue/Heap using**\n",
        "\n",
        "<a data-flickr-embed=\"true\" href=\"https://www.flickr.com/photos/185802546@N05/49167234746/in/dateposted-public/\" title=\"min_max_heap_example\"><img src=\"https://live.staticflickr.com/65535/49167234746_34feb00de1_z.jpg\" width=\"640\" height=\"300\" alt=\"min_max_heap_example\"></a><script async src=\"//embedr.flickr.com/assets/client-code.js\" charset=\"utf-8\"></script>\n",
        "\n",
        "\n",
        "##### **Example of how to traverse left and right**\n",
        "<a data-flickr-embed=\"true\" href=\"https://www.flickr.com/photos/185802546@N05/49166812308/in/dateposted-public/\" title=\"Traversing BST_Heap\"><img src=\"https://live.staticflickr.com/65535/49166812308_93ed788f23_z.jpg\" width=\"640\" height=\"619\" alt=\"Traversing BST_Heap\"></a><script async src=\"//embedr.flickr.com/assets/client-code.js\" charset=\"utf-8\"></script>\n",
        "\n",
        "##### **Example of how to delete:**\n",
        "\n",
        "<a data-flickr-embed=\"true\" href=\"https://www.flickr.com/photos/185802546@N05/49166819598/in/dateposted-public/\" title=\"BST_Removal_Example\"><img src=\"https://live.staticflickr.com/65535/49166819598_01fc1e58eb_z.jpg\" width=\"640\" height=\"431\" alt=\"BST_Removal_Example\"></a><script async src=\"//embedr.flickr.com/assets/client-code.js\" charset=\"utf-8\"></script>\n"
      ]
    },
    {
      "cell_type": "markdown",
      "metadata": {
        "id": "DC6aS_ZZtqcs",
        "colab_type": "text"
      },
      "source": [
        "# **Balanced Trees**"
      ]
    },
    {
      "cell_type": "markdown",
      "metadata": {
        "id": "3xc3eavliV0K",
        "colab_type": "text"
      },
      "source": [
        "#### **Concept**\n"
      ]
    },
    {
      "cell_type": "markdown",
      "metadata": {
        "id": "gOyP8gNN52-7",
        "colab_type": "text"
      },
      "source": [
        "A binary search tree that is balanced will have n nodes and the height between the left and right of those nodes must always have a balance factor of <= 1. An Adelson-Velskii and E.M. Landies Tree (AVL) is great to use because it automatically balances the tree when and insertion or deletion occurs.  "
      ]
    },
    {
      "cell_type": "markdown",
      "metadata": {
        "id": "miZSdVYeiTN3",
        "colab_type": "text"
      },
      "source": [
        "#### **API & Efficiency**\n",
        "\n",
        " \n"
      ]
    },
    {
      "cell_type": "markdown",
      "metadata": {
        "id": "CRCL0VIaD1UK",
        "colab_type": "text"
      },
      "source": [
        "1. rotateright() =>  0(log(n))\n",
        "2. rotrateleft() =>  0(log(n))\n",
        "3. search() =>  0(1) if using adjacency list, but O(|V|) if an adjaceny matrix.\n",
        "4. insert() => 0(log(n))\n",
        "5. delete() =>  0(log(n))\n",
        "\n",
        "<a data-flickr-embed=\"true\" href=\"https://www.flickr.com/photos/185802546@N05/49167567056/in/dateposted-public/\" title=\"Heap Time Complexities\"><img src=\"https://live.staticflickr.com/65535/49167567056_273ea0c2d8.jpg\" width=\"500\" height=\"155\" alt=\"Heap Time Complexities\"></a><script async src=\"//embedr.flickr.com/assets/client-code.js\" charset=\"utf-8\"></script>"
      ]
    },
    {
      "cell_type": "markdown",
      "metadata": {
        "id": "mnGMzEL3iQEE",
        "colab_type": "text"
      },
      "source": [
        "#### **Implementation**\n",
        "\n"
      ]
    },
    {
      "cell_type": "markdown",
      "metadata": {
        "id": "JBth2dQID72I",
        "colab_type": "text"
      },
      "source": [
        "The underlying data structure is a binary search tree. The main difference between a BST and binary search tree is in the way that it performs. \n",
        "\n",
        "In the implementation, we need to keep track of a balance factor for each node of the tree. The way that we can do this is by looking at the height of the left and right subtree for each node. \n",
        "\n",
        "The way we define a balance factor for a node is by taking the difference between the height of the left subtree and the height of the right subtree:\n",
        "**balance Factor = height(leftSubtree) - height(rightSubtree).**\n",
        "\n",
        "The subtree is left-heavy if the balance factor is > 0.\n",
        "\n",
        "The subtree is right-heavy if the balance factor is < 0"
      ]
    },
    {
      "cell_type": "markdown",
      "metadata": {
        "id": "mZWsJvJziNSL",
        "colab_type": "text"
      },
      "source": [
        "#### **Example**"
      ]
    },
    {
      "cell_type": "markdown",
      "metadata": {
        "id": "G8SBUu-2AaWZ",
        "colab_type": "text"
      },
      "source": [
        "##### **Example of an unbalanced right-heavy subtree:**\n",
        "\n",
        "<a data-flickr-embed=\"true\" href=\"https://www.flickr.com/photos/185802546@N05/49167399076/in/dateposted-public/\" title=\"unbalanced tree example\"><img src=\"https://live.staticflickr.com/65535/49167399076_915b0dc88d.jpg\" width=\"500\" height=\"325\" alt=\"unbalanced tree example\"></a><script async src=\"//embedr.flickr.com/assets/client-code.js\" charset=\"utf-8\"></script>\n",
        "\n",
        "\n",
        "##### **Example of how use comparison method:**\n",
        "\n",
        "<a data-flickr-embed=\"true\" href=\"https://www.flickr.com/photos/185802546@N05/49166927173/in/dateposted-public/\" title=\"Comparison Example\"><img src=\"https://live.staticflickr.com/65535/49166927173_b32b151ef7.jpg\" width=\"500\" height=\"254\" alt=\"Comparison Example\"></a><script async src=\"//embedr.flickr.com/assets/client-code.js\" charset=\"utf-8\"></script>\n",
        "\n",
        "##### **Example of how to do a right and left rotation:**\n",
        "\n",
        "<a data-flickr-embed=\"true\" href=\"https://www.flickr.com/photos/185802546@N05/49166933658/in/dateposted-public/\" title=\"Example of Left and Right Rotation\"><img src=\"https://live.staticflickr.com/65535/49166933658_d3a8dd89d7.jpg\" width=\"500\" height=\"479\" alt=\"Example of Left and Right Rotation\"></a><script async src=\"//embedr.flickr.com/assets/client-code.js\" charset=\"utf-8\"></script>\n",
        "\n",
        "##### **Example of AVL Tree:**\n",
        "\n",
        "<a data-flickr-embed=\"true\" href=\"https://www.flickr.com/photos/185802546@N05/49167422671/in/dateposted-public/\" title=\"AVL Tree Example\"><img src=\"https://live.staticflickr.com/65535/49167422671_28ff26922f.jpg\" width=\"500\" height=\"479\" alt=\"AVL Tree Example\"></a><script async src=\"//embedr.flickr.com/assets/client-code.js\" charset=\"utf-8\"></script>"
      ]
    },
    {
      "cell_type": "markdown",
      "metadata": {
        "id": "wzekPP4ktrpr",
        "colab_type": "text"
      },
      "source": [
        "# **Graphs**"
      ]
    },
    {
      "cell_type": "markdown",
      "metadata": {
        "id": "s4EMi9ICijTl",
        "colab_type": "text"
      },
      "source": [
        "#### **Concept**\n"
      ]
    },
    {
      "cell_type": "markdown",
      "metadata": {
        "id": "XlaRvQ98ExCf",
        "colab_type": "text"
      },
      "source": [
        "This is a rebel tree where order doesn't matter. This is an abstract data type that is used for networks, maps, and even data structures. \n",
        "\n",
        "It is a pair (V, E) where V is any set and E is a set of pairs of elements of V. We call V the **vertices set** and **E the edges**\n",
        "\n",
        "We can store graphs as follows:\n",
        "\n",
        "**G = ({1,2,3,4}, {(1,2), (1,3), (1,4)})**\n",
        "\n",
        "A graph be undirected where the graph is an omni-directional and there is a directed graph that can only travel in one direction.\n",
        "\n"
      ]
    },
    {
      "cell_type": "markdown",
      "metadata": {
        "id": "lvGjKl2NifwK",
        "colab_type": "text"
      },
      "source": [
        "#### **API & Efficiency**\n"
      ]
    },
    {
      "cell_type": "markdown",
      "metadata": {
        "id": "EOR9x6BVKdwW",
        "colab_type": "text"
      },
      "source": [
        "<a data-flickr-embed=\"true\" href=\"https://www.flickr.com/photos/185802546@N05/49167033508/in/dateposted-public/\" title=\"Graph\"><img src=\"https://live.staticflickr.com/65535/49167033508_5b7fec1524.jpg\" width=\"500\" height=\"147\" alt=\"Graph\"></a><script async src=\"//embedr.flickr.com/assets/client-code.js\" charset=\"utf-8\"></script>"
      ]
    },
    {
      "cell_type": "markdown",
      "metadata": {
        "id": "j69wuqUzicGK",
        "colab_type": "text"
      },
      "source": [
        "#### **Implementation**\n",
        "\n",
        "You can implement a graph by using either an adjaceny matrix or using an adjaceny list. The underlying data structure for an adjaceny matrix is a 2-D array and for an adjacency list, you are just can use either a linked list, array, or hash table. \n",
        "\n",
        "The major difference between the two are in how they store memory. An adjacency matrix uses a lot of memory because it takes into account all of the vertices twice or O(|V^2|) and is great for larger data. However, it would be bad when you are trying to store sparse data as it will still allocate memory for every potential vertex i.e. O(|V^2|). In an adjacency list, you are only going to allocate memory for the adjacent vertices as a pair and not individually so that is why you would have a space complexity of O(|V|)\n"
      ]
    },
    {
      "cell_type": "markdown",
      "metadata": {
        "id": "TaX-VCa6iYvL",
        "colab_type": "text"
      },
      "source": [
        "#### **Example**"
      ]
    },
    {
      "cell_type": "markdown",
      "metadata": {
        "id": "a8iKrvxvMBCX",
        "colab_type": "text"
      },
      "source": [
        "#### **Example of Graph:**\n",
        "\n",
        "<a data-flickr-embed=\"true\" href=\"https://www.flickr.com/photos/185802546@N05/49167062213/in/dateposted-public/\" title=\"Example of a Graph\"><img src=\"https://live.staticflickr.com/65535/49167062213_5475f77239.jpg\" width=\"420\" height=\"500\" alt=\"Example of a Graph\"></a><script async src=\"//embedr.flickr.com/assets/client-code.js\" charset=\"utf-8\"></script>\n",
        "\n",
        "#### **Graph Properties:**\n",
        "\n",
        "<a data-flickr-embed=\"true\" href=\"https://www.flickr.com/photos/185802546@N05/49167550441/in/dateposted-public/\" title=\"Properties of Graphs\"><img src=\"https://live.staticflickr.com/65535/49167550441_38ba73f36c.jpg\" width=\"500\" height=\"294\" alt=\"Properties of Graphs\"></a><script async src=\"//embedr.flickr.com/assets/client-code.js\" charset=\"utf-8\"></script>\n",
        "\n",
        "#### **Example of Adjacency Matrix and Adjacency List:**\n",
        "\n",
        "<a data-flickr-embed=\"true\" href=\"https://www.flickr.com/photos/185802546@N05/49167557901/in/dateposted-public/\" title=\"Adjacency Matrix_List\"><img src=\"https://live.staticflickr.com/65535/49167557901_711df64ff0.jpg\" width=\"378\" height=\"500\" alt=\"Adjacency Matrix_List\"></a><script async src=\"//embedr.flickr.com/assets/client-code.js\" charset=\"utf-8\"></script>"
      ]
    },
    {
      "cell_type": "markdown",
      "metadata": {
        "id": "CJir7aMSts-P",
        "colab_type": "text"
      },
      "source": [
        "# **Graph Algorithms (Topographic)** "
      ]
    },
    {
      "cell_type": "markdown",
      "metadata": {
        "id": "CckpDHVAiw4G",
        "colab_type": "text"
      },
      "source": [
        "#### **Concept**\n",
        "\n",
        "\n"
      ]
    },
    {
      "cell_type": "markdown",
      "metadata": {
        "id": "WCz126VuU9Yk",
        "colab_type": "text"
      },
      "source": [
        "There are two main types of algorithms and they are:\n",
        "\n",
        "Breadth First Search(BFS) and Depth First Search(DFS). These are the traversing methods used in searching a graph. Graph traversal is the process of visiting all the vertices of the graph.\n",
        "\n",
        "The goal is to start from some vertex in a connected graph G and systematically visit every other vertex in G.\n",
        "\n",
        "Both outlines follow the following outlines:\n",
        "\n",
        "1. Initialize a discovered set and a to-visit list so both contain just the starting vertex s\n",
        "2. While the to-visit list is not empty:\n",
        "  1. Remove the first vertex n from to-visit\n",
        "  2. For each neighbor vertex of n, if it has not already been discovered, add it to the discovered set and to the to-visit list\n",
        "\n",
        "When the to-visit list is empty, we will have visited all the vertices in the graph. In addition to visiting every vertex, we also checked every vertex’s neighbors, or in other words every edge coming out of each vertex. \n",
        "\n",
        "In BFS, we want to expand (visit all the neighbors of) all the vertices we have seen already before expanding any newer vertices, so we insert the new vertices to the end of to-visit.  In other words, when you reach all of your adjacent neighbors according to a specified order, you would keep expanding each time in that same order. \n",
        "\n",
        "In DFS, we want to expand vertices that we have just expanded to go deeper into the graph, so we insert the new vertices to the beginning of to-visit. Consider to-visit as a stack remembering that stack is a data structure where elements are inserted and removed in a last-in-first-out order, like inserting cards on top of a deck and removing cards only off the top of the deck. In other words, you are going to start at the starting vertex. Then you are going in the direction the order is specified i.e. alphabetically or ascending or descending. Then you are going travel all the way down following that order until there are no adjacent neighbors. Then, it will make its way back to the start and repeat the same process until there are no more neighbors. "
      ]
    },
    {
      "cell_type": "markdown",
      "metadata": {
        "id": "-vMGIb2dit-1",
        "colab_type": "text"
      },
      "source": [
        "#### **API & Efficiency**\n",
        "\n",
        "\n",
        "\n",
        "\n"
      ]
    },
    {
      "cell_type": "markdown",
      "metadata": {
        "id": "K_utgtPwcTdu",
        "colab_type": "text"
      },
      "source": [
        "#### **Depth First**\n",
        "\n",
        "**There's no real API except for the structure that I mentioned in the concept.**\n",
        "\n",
        "Time Complexity:\n",
        "O(|V| + |E|)\n",
        "\n"
      ]
    },
    {
      "cell_type": "markdown",
      "metadata": {
        "id": "qCvRVryCb7qk",
        "colab_type": "text"
      },
      "source": [
        "##### **Breadth First**\n",
        "\n",
        "**There's no real API except for the structure that I mentioned in the concept.**\n",
        "\n",
        "Time Complexity:\n",
        "O(|V| + |E|)\n"
      ]
    },
    {
      "cell_type": "markdown",
      "metadata": {
        "id": "pvnE-1muiqPz",
        "colab_type": "text"
      },
      "source": [
        "#### **Implementation**\n"
      ]
    },
    {
      "cell_type": "markdown",
      "metadata": {
        "id": "qZ9NMtakX3Ii",
        "colab_type": "text"
      },
      "source": [
        "Breadth First Algorithm is implemented using a queue (FIFO). \n",
        "\n",
        "Depth First Algorithm is implemented using a stack (LIFO). "
      ]
    },
    {
      "cell_type": "markdown",
      "metadata": {
        "id": "4f27cvavilUy",
        "colab_type": "text"
      },
      "source": [
        "### **Example:** \n",
        "\n",
        "\n",
        "\n",
        "\n",
        "\n",
        "\n"
      ]
    },
    {
      "cell_type": "markdown",
      "metadata": {
        "id": "6tnBn9pmazeZ",
        "colab_type": "text"
      },
      "source": [
        "#### **Depth First Algorithm:**\n",
        "\n",
        "<a data-flickr-embed=\"true\" href=\"https://www.flickr.com/photos/185802546@N05/49167720806/in/dateposted-public/\" title=\"Depth First Example\"><img src=\"https://live.staticflickr.com/65535/49167720806_059e690189.jpg\" width=\"500\" height=\"310\" alt=\"Depth First Example\"></a><script async src=\"//embedr.flickr.com/assets/client-code.js\" charset=\"utf-8\"></script>"
      ]
    },
    {
      "cell_type": "markdown",
      "metadata": {
        "id": "9QM39IQ7aKCQ",
        "colab_type": "text"
      },
      "source": [
        " #### **Breadth First Algorithm:**\n",
        " \n",
        " <a data-flickr-embed=\"true\" href=\"https://www.flickr.com/photos/185802546@N05/49167944252/in/dateposted-public/\" title=\"Breadth First Example\"><img src=\"https://live.staticflickr.com/65535/49167944252_a8119b4103.jpg\" width=\"500\" height=\"290\" alt=\"Breadth First Example\"></a><script async src=\"//embedr.flickr.com/assets/client-code.js\" charset=\"utf-8\"></script>"
      ]
    },
    {
      "cell_type": "markdown",
      "metadata": {
        "id": "Rch3CvgPy9gx",
        "colab_type": "text"
      },
      "source": [
        "# **Dijkstra's Algorithm**\n",
        "\n"
      ]
    },
    {
      "cell_type": "markdown",
      "metadata": {
        "id": "oDJDEuXczMe4",
        "colab_type": "text"
      },
      "source": [
        "### **Concept**"
      ]
    },
    {
      "cell_type": "markdown",
      "metadata": {
        "id": "L02ZWYk-0Kno",
        "colab_type": "text"
      },
      "source": [
        "The algorithm we are going to use to determine the shortest path is called \"Dijkstra’s algorithm\" and is an iterative algorithm that provides us with the shortest path from one particular starting node to all other nodes in the graph. This is similar to breadth first algorithm. "
      ]
    },
    {
      "cell_type": "markdown",
      "metadata": {
        "id": "LEnmXR3OzQy2",
        "colab_type": "text"
      },
      "source": [
        "### **API & Efficiency**\n"
      ]
    },
    {
      "cell_type": "markdown",
      "metadata": {
        "id": "k9Nfwir62cI-",
        "colab_type": "text"
      },
      "source": [
        "<a data-flickr-embed=\"true\" href=\"https://www.flickr.com/photos/185802546@N05/49167463918/in/dateposted-public/\" title=\"Graph Algorithms\"><img src=\"https://live.staticflickr.com/65535/49167463918_cac55a8260.jpg\" width=\"500\" height=\"251\" alt=\"Graph Algorithms\"></a><script async src=\"//embedr.flickr.com/assets/client-code.js\" charset=\"utf-8\"></script>"
      ]
    },
    {
      "cell_type": "markdown",
      "metadata": {
        "id": "vFcnsA0yzYKP",
        "colab_type": "text"
      },
      "source": [
        "### **Implementation**"
      ]
    },
    {
      "cell_type": "markdown",
      "metadata": {
        "id": "KH0tQT740lOM",
        "colab_type": "text"
      },
      "source": [
        "The underlying datstructure that it is normally implemented with is the priority queue. \n",
        "\n",
        "1. First, the PriorityQueue class stores tuples of key, value pairs. This is important for Dijkstra’s algorithm as the key in the priority queue must match the key of the vertex in the graph. \n",
        "2. Secondly the value is used for deciding the priority, and thus the position of the key in the priority queue. In this implementation we use the distance to the vertex as the priority because as we will see when we are exploring the next vertex, we always want to explore the vertex that has the smallest distance. The second difference is the addition of the decreaseKey method. As you can see, this method is used when the distance to a vertex that is already in the queue is reduced, and thus moves that vertex toward the front of the queue."
      ]
    },
    {
      "cell_type": "markdown",
      "metadata": {
        "id": "1OZ2IabOzquF",
        "colab_type": "text"
      },
      "source": [
        "### **Example**"
      ]
    },
    {
      "cell_type": "markdown",
      "metadata": {
        "id": "QZYe8rLY1ZG_",
        "colab_type": "text"
      },
      "source": [
        "### **Step 1**\n",
        "\n",
        "![alt text](https://runestone.academy/runestone/books/published/pythonds/_images/dijkstraa.png)\n",
        "\n",
        "### **Step 2**\n",
        "\n",
        "![alt text](https://runestone.academy/runestone/books/published/pythonds/_images/dijkstrab.png)\n",
        "\n",
        "### **Step 3**\n",
        "\n",
        "![alt text](https://runestone.academy/runestone/books/published/pythonds/_images/dijkstrac.png)\n",
        "\n",
        "\n",
        "### **Step 4**\n",
        "\n",
        "![alt text](https://runestone.academy/runestone/books/published/pythonds/_images/dijkstrad.png)\n",
        "\n",
        "### **Step 5**\n",
        "\n",
        "![alt text](https://runestone.academy/runestone/books/published/pythonds/_images/dijkstrae.png)\n",
        "\n",
        "### **Step 6**\n",
        "\n",
        "![alt text](https://runestone.academy/runestone/books/published/pythonds/_images/dijkstraf.png)"
      ]
    },
    {
      "cell_type": "markdown",
      "metadata": {
        "id": "TUrNPeyGlCs2",
        "colab_type": "text"
      },
      "source": [
        "# **Spanning Tree**\n"
      ]
    },
    {
      "cell_type": "markdown",
      "metadata": {
        "id": "kE2LwP-amGBY",
        "colab_type": "text"
      },
      "source": [
        "### **Concept**"
      ]
    },
    {
      "cell_type": "markdown",
      "metadata": {
        "id": "hmd5DwWvmc6_",
        "colab_type": "text"
      },
      "source": [
        "This is a subgraph of a graph G=(V,E) that connects all of its vertices with minimum possible number of edges (Remove edges that cause a cycle; you will still be left with connection between all of the vertices). \n",
        "\n",
        "Every connected and undirected graph has at least one spanning tree. \n",
        "\n",
        "These are normally used when you only need one way to connect vertices. A perfect example would be routing data on a network that repetitive connections (multiple ways to get to where it needs to go). \n",
        "\n",
        "There are also **minimum** spanning trees. This is a spanning tree that has the lowest cost, or lowest total edge weights. For reference purposes, weights can be measured as a distance. \n",
        "\n",
        "There are two algorithms that help us retrieve a MST and they are Prim's Algorithm and Kruskal's Algorithm.\n",
        "\n"
      ]
    },
    {
      "cell_type": "markdown",
      "metadata": {
        "id": "ezvxWfkamMpx",
        "colab_type": "text"
      },
      "source": [
        "### **API & Efficiency**"
      ]
    },
    {
      "cell_type": "markdown",
      "metadata": {
        "id": "-MEa-jPCrhuT",
        "colab_type": "text"
      },
      "source": [
        "**The time complexity depends on what algorithm that you are tryng to implement. See the following:** \n",
        "\n",
        "<a data-flickr-embed=\"true\" href=\"https://www.flickr.com/photos/185802546@N05/49167463918/in/dateposted-public/\" title=\"Graph Algorithms\"><img src=\"https://live.staticflickr.com/65535/49167463918_cac55a8260.jpg\" width=\"500\" height=\"251\" alt=\"Graph Algorithms\"></a><script async src=\"//embedr.flickr.com/assets/client-code.js\" charset=\"utf-8\"></script>"
      ]
    },
    {
      "cell_type": "markdown",
      "metadata": {
        "id": "8-rY8MVZl029",
        "colab_type": "text"
      },
      "source": [
        "### **Implementation**"
      ]
    },
    {
      "cell_type": "markdown",
      "metadata": {
        "id": "NKlGTTUFtPuC",
        "colab_type": "text"
      },
      "source": [
        "This is implemented as a tree because a tree is a subgraph of a graph. \n",
        "\n",
        "#### **Prim's Algorithm**\n",
        "1. Start with the minimum weight edge as the partial-tree.\n",
        "2. Look for an adjacent edge that we can add (No cycles) with minimum weight\n",
        "3. Keep adding edges until we have n-1 of them. \n",
        "\n",
        "#### **Kruskal's Algorithm**\n",
        "1. Start with the minimum weight edge as the partial-tree.\n",
        "2. Don't limit it to adjacent edges\n",
        "3. Keep adding edges until we have n-1 of them. \n",
        "\n"
      ]
    },
    {
      "cell_type": "markdown",
      "metadata": {
        "id": "2sDsKtzZmYHM",
        "colab_type": "text"
      },
      "source": [
        "### **Example**"
      ]
    },
    {
      "cell_type": "markdown",
      "metadata": {
        "id": "_Fu4qc33uy9P",
        "colab_type": "text"
      },
      "source": [
        "#### **Connected Graph:**\n",
        "\n",
        "![alt text](https://oregonstate.instructure.com/courses/1738923/files/77136946/preview)\n",
        "\n",
        "### **Spanning Tree:**\n",
        "\n",
        "![alt text](https://oregonstate.instructure.com/courses/1738923/files/77136969/preview)\n",
        "\n",
        "### **Minimum Spanning Tree:**\n",
        "\n",
        "![alt text](https://oregonstate.instructure.com/courses/1738923/files/77137422/preview)\n",
        "\n",
        "### **Kruskal's Algorithm (Adjaceny DOESN'T Matter):**\n",
        "\n",
        "![alt text](https://www.oreilly.com/library/view/c-data-structures/9781788833738/assets/f5ee36e3-7ca4-425f-8907-e1830736b7bc.png)\n",
        "\n",
        "### **Prim's Algorithm (Adjacency Matters):**\n",
        "\n",
        "![alt text](https://www.oreilly.com/library/view/c-data-structures/9781788833738/assets/ee23c538-4e24-4625-b17d-b734be8dabac.png)\n",
        "\n"
      ]
    },
    {
      "cell_type": "markdown",
      "metadata": {
        "id": "JSYKp8M0tvkg",
        "colab_type": "text"
      },
      "source": [
        "# **Conclusion**"
      ]
    },
    {
      "cell_type": "markdown",
      "metadata": {
        "id": "gs9nkn2d6X0h",
        "colab_type": "text"
      },
      "source": [
        "Before going into this class, I thought that there were only two types of data structures, which were a dynamic array and a static array. I also never took into account the time complexity or space complexity when I was developing code. After going through this class, I have a better understanding on how to properly pick a data structure that will meet my needs for a project in regards to time and space complexity. I am also able to understand all the different types of data structures. Over the period of the class, I was having a hard time with the first two Implementations because they were so dense. However, I am glad that I was challenged because it seems as though the implementations got a little bit easier for me in terms of reading and writing code. "
      ]
    }
  ]
}